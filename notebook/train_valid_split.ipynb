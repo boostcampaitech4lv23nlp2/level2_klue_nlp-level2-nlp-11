{
 "cells": [
  {
   "cell_type": "code",
   "execution_count": 1,
   "metadata": {},
   "outputs": [],
   "source": [
    "#!pip install matplotlib"
   ]
  },
  {
   "cell_type": "code",
   "execution_count": 1,
   "metadata": {},
   "outputs": [],
   "source": [
    "import pandas as pd\n",
    "import numpy as np\n",
    "import matplotlib.pyplot as plt"
   ]
  },
  {
   "cell_type": "code",
   "execution_count": 2,
   "metadata": {},
   "outputs": [],
   "source": [
    "train_df = pd.read_csv('/opt/ml/level2_klue_nlp-level2-nlp-11/dataset/train/train.csv')"
   ]
  },
  {
   "cell_type": "code",
   "execution_count": 3,
   "metadata": {},
   "outputs": [
    {
     "data": {
      "text/plain": [
       "id                 int64\n",
       "sentence          object\n",
       "subject_entity    object\n",
       "object_entity     object\n",
       "label             object\n",
       "source            object\n",
       "dtype: object"
      ]
     },
     "execution_count": 3,
     "metadata": {},
     "output_type": "execute_result"
    }
   ],
   "source": [
    "train_df.dtypes"
   ]
  },
  {
   "cell_type": "code",
   "execution_count": 4,
   "metadata": {},
   "outputs": [
    {
     "data": {
      "text/html": [
       "<div>\n",
       "<style scoped>\n",
       "    .dataframe tbody tr th:only-of-type {\n",
       "        vertical-align: middle;\n",
       "    }\n",
       "\n",
       "    .dataframe tbody tr th {\n",
       "        vertical-align: top;\n",
       "    }\n",
       "\n",
       "    .dataframe thead th {\n",
       "        text-align: right;\n",
       "    }\n",
       "</style>\n",
       "<table border=\"1\" class=\"dataframe\">\n",
       "  <thead>\n",
       "    <tr style=\"text-align: right;\">\n",
       "      <th></th>\n",
       "      <th>id</th>\n",
       "      <th>sentence</th>\n",
       "      <th>subject_entity</th>\n",
       "      <th>object_entity</th>\n",
       "      <th>label</th>\n",
       "      <th>source</th>\n",
       "    </tr>\n",
       "  </thead>\n",
       "  <tbody>\n",
       "    <tr>\n",
       "      <th>0</th>\n",
       "      <td>0</td>\n",
       "      <td>〈Something〉는 조지 해리슨이 쓰고 비틀즈가 1969년 앨범 《Abbey R...</td>\n",
       "      <td>{'word': '비틀즈', 'start_idx': 24, 'end_idx': 26...</td>\n",
       "      <td>{'word': '조지 해리슨', 'start_idx': 13, 'end_idx':...</td>\n",
       "      <td>no_relation</td>\n",
       "      <td>wikipedia</td>\n",
       "    </tr>\n",
       "    <tr>\n",
       "      <th>1</th>\n",
       "      <td>1</td>\n",
       "      <td>호남이 기반인 바른미래당·대안신당·민주평화당이 우여곡절 끝에 합당해 민생당(가칭)으...</td>\n",
       "      <td>{'word': '민주평화당', 'start_idx': 19, 'end_idx': ...</td>\n",
       "      <td>{'word': '대안신당', 'start_idx': 14, 'end_idx': 1...</td>\n",
       "      <td>no_relation</td>\n",
       "      <td>wikitree</td>\n",
       "    </tr>\n",
       "    <tr>\n",
       "      <th>2</th>\n",
       "      <td>2</td>\n",
       "      <td>K리그2에서 성적 1위를 달리고 있는 광주FC는 지난 26일 한국프로축구연맹으로부터...</td>\n",
       "      <td>{'word': '광주FC', 'start_idx': 21, 'end_idx': 2...</td>\n",
       "      <td>{'word': '한국프로축구연맹', 'start_idx': 34, 'end_idx...</td>\n",
       "      <td>org:member_of</td>\n",
       "      <td>wikitree</td>\n",
       "    </tr>\n",
       "    <tr>\n",
       "      <th>3</th>\n",
       "      <td>3</td>\n",
       "      <td>균일가 생활용품점 (주)아성다이소(대표 박정부)는 코로나19 바이러스로 어려움을 겪...</td>\n",
       "      <td>{'word': '아성다이소', 'start_idx': 13, 'end_idx': ...</td>\n",
       "      <td>{'word': '박정부', 'start_idx': 22, 'end_idx': 24...</td>\n",
       "      <td>org:top_members/employees</td>\n",
       "      <td>wikitree</td>\n",
       "    </tr>\n",
       "    <tr>\n",
       "      <th>4</th>\n",
       "      <td>4</td>\n",
       "      <td>1967년 프로 야구 드래프트 1순위로 요미우리 자이언츠에게 입단하면서 등번호는 8...</td>\n",
       "      <td>{'word': '요미우리 자이언츠', 'start_idx': 22, 'end_id...</td>\n",
       "      <td>{'word': '1967', 'start_idx': 0, 'end_idx': 3,...</td>\n",
       "      <td>no_relation</td>\n",
       "      <td>wikipedia</td>\n",
       "    </tr>\n",
       "  </tbody>\n",
       "</table>\n",
       "</div>"
      ],
      "text/plain": [
       "   id                                           sentence  \\\n",
       "0   0  〈Something〉는 조지 해리슨이 쓰고 비틀즈가 1969년 앨범 《Abbey R...   \n",
       "1   1  호남이 기반인 바른미래당·대안신당·민주평화당이 우여곡절 끝에 합당해 민생당(가칭)으...   \n",
       "2   2  K리그2에서 성적 1위를 달리고 있는 광주FC는 지난 26일 한국프로축구연맹으로부터...   \n",
       "3   3  균일가 생활용품점 (주)아성다이소(대표 박정부)는 코로나19 바이러스로 어려움을 겪...   \n",
       "4   4  1967년 프로 야구 드래프트 1순위로 요미우리 자이언츠에게 입단하면서 등번호는 8...   \n",
       "\n",
       "                                      subject_entity  \\\n",
       "0  {'word': '비틀즈', 'start_idx': 24, 'end_idx': 26...   \n",
       "1  {'word': '민주평화당', 'start_idx': 19, 'end_idx': ...   \n",
       "2  {'word': '광주FC', 'start_idx': 21, 'end_idx': 2...   \n",
       "3  {'word': '아성다이소', 'start_idx': 13, 'end_idx': ...   \n",
       "4  {'word': '요미우리 자이언츠', 'start_idx': 22, 'end_id...   \n",
       "\n",
       "                                       object_entity  \\\n",
       "0  {'word': '조지 해리슨', 'start_idx': 13, 'end_idx':...   \n",
       "1  {'word': '대안신당', 'start_idx': 14, 'end_idx': 1...   \n",
       "2  {'word': '한국프로축구연맹', 'start_idx': 34, 'end_idx...   \n",
       "3  {'word': '박정부', 'start_idx': 22, 'end_idx': 24...   \n",
       "4  {'word': '1967', 'start_idx': 0, 'end_idx': 3,...   \n",
       "\n",
       "                       label     source  \n",
       "0                no_relation  wikipedia  \n",
       "1                no_relation   wikitree  \n",
       "2              org:member_of   wikitree  \n",
       "3  org:top_members/employees   wikitree  \n",
       "4                no_relation  wikipedia  "
      ]
     },
     "execution_count": 4,
     "metadata": {},
     "output_type": "execute_result"
    }
   ],
   "source": [
    "train_df.head()"
   ]
  },
  {
   "cell_type": "code",
   "execution_count": 5,
   "metadata": {},
   "outputs": [
    {
     "data": {
      "text/plain": [
       "no_relation                            9534\n",
       "org:top_members/employees              4284\n",
       "per:employee_of                        3573\n",
       "per:title                              2103\n",
       "org:member_of                          1866\n",
       "org:alternate_names                    1320\n",
       "per:origin                             1234\n",
       "org:place_of_headquarters              1195\n",
       "per:date_of_birth                      1130\n",
       "per:alternate_names                    1001\n",
       "per:spouse                              795\n",
       "per:colleagues                          534\n",
       "per:parents                             520\n",
       "org:founded                             450\n",
       "org:members                             420\n",
       "per:date_of_death                       418\n",
       "org:product                             380\n",
       "per:children                            304\n",
       "per:place_of_residence                  193\n",
       "per:other_family                        190\n",
       "per:place_of_birth                      166\n",
       "org:founded_by                          155\n",
       "per:product                             139\n",
       "per:siblings                            136\n",
       "org:political/religious_affiliation      98\n",
       "per:religion                             96\n",
       "per:schools_attended                     82\n",
       "org:dissolved                            66\n",
       "org:number_of_employees/members          48\n",
       "per:place_of_death                       40\n",
       "Name: label, dtype: int64"
      ]
     },
     "execution_count": 5,
     "metadata": {},
     "output_type": "execute_result"
    }
   ],
   "source": [
    "#train_label 별 개수 확인인\n",
    "group = train_df['label'].value_counts()\n",
    "group"
   ]
  },
  {
   "cell_type": "code",
   "execution_count": 6,
   "metadata": {},
   "outputs": [
    {
     "data": {
      "image/png": "[encoded data removed]",
      "text/plain": [
       "<Figure size 1080x504 with 1 Axes>"
      ]
     },
     "metadata": {
      "needs_background": "light"
     },
     "output_type": "display_data"
    }
   ],
   "source": [
    "#간단한 비율 확인 EDA\n",
    "fig, axes = plt.subplots(1, 1, figsize=(15, 7))\n",
    "axes.barh(group.index[::-1], group[::-1],color='royalblue')\n",
    "\n",
    "plt.show()"
   ]
  },
  {
   "cell_type": "code",
   "execution_count": 15,
   "metadata": {},
   "outputs": [
    {
     "name": "stdout",
     "output_type": "stream",
     "text": [
      "no_relation                              :  9534,  ratio :  0.29362 , valid_count :  1906 \n",
      "org:top_members/employees                :  4284,  ratio :  0.13194 , valid_count :  856 \n",
      "per:employee_of                          :  3573,  ratio :  0.11004 , valid_count :  714 \n",
      "per:title                                :  2103,  ratio :  0.06477 , valid_count :  420 \n",
      "org:member_of                            :  1866,  ratio :  0.05747 , valid_count :  373 \n",
      "org:alternate_names                      :  1320,  ratio :  0.04065 , valid_count :  264 \n",
      "per:origin                               :  1234,  ratio :  0.03800 , valid_count :  246 \n",
      "org:place_of_headquarters                :  1195,  ratio :  0.03680 , valid_count :  239 \n",
      "per:date_of_birth                        :  1130,  ratio :  0.03480 , valid_count :  226 \n",
      "per:alternate_names                      :  1001,  ratio :  0.03083 , valid_count :  200 \n",
      "per:spouse                               :   795,  ratio :  0.02448 , valid_count :  159 \n",
      "per:colleagues                           :   534,  ratio :  0.01645 , valid_count :  106 \n",
      "per:parents                              :   520,  ratio :  0.01601 , valid_count :  104 \n",
      "org:founded                              :   450,  ratio :  0.01386 , valid_count :  90 \n",
      "org:members                              :   420,  ratio :  0.01294 , valid_count :  84 \n",
      "per:date_of_death                        :   418,  ratio :  0.01287 , valid_count :  83 \n",
      "org:product                              :   380,  ratio :  0.01170 , valid_count :  76 \n",
      "per:children                             :   304,  ratio :  0.00936 , valid_count :  60 \n",
      "per:place_of_residence                   :   193,  ratio :  0.00594 , valid_count :  38 \n",
      "per:other_family                         :   190,  ratio :  0.00585 , valid_count :  38 \n",
      "per:place_of_birth                       :   166,  ratio :  0.00511 , valid_count :  33 \n",
      "org:founded_by                           :   155,  ratio :  0.00477 , valid_count :  31 \n",
      "per:product                              :   139,  ratio :  0.00428 , valid_count :  27 \n",
      "per:siblings                             :   136,  ratio :  0.00419 , valid_count :  27 \n",
      "org:political/religious_affiliation      :    98,  ratio :  0.00302 , valid_count :  19 \n",
      "per:religion                             :    96,  ratio :  0.00296 , valid_count :  19 \n",
      "per:schools_attended                     :    82,  ratio :  0.00253 , valid_count :  16 \n",
      "org:dissolved                            :    66,  ratio :  0.00203 , valid_count :  13 \n",
      "org:number_of_employees/members          :    48,  ratio :  0.00148 , valid_count :  9 \n",
      "per:place_of_death                       :    40,  ratio :  0.00123 , valid_count :  8 \n"
     ]
    }
   ],
   "source": [
    "#train라벨별 추출할 valid 개수 계산\n",
    "valid_count = {}\n",
    "valid_ratio = 0.2\n",
    "for x, y in group.items() :\n",
    "  print(f'{x:40} : {y:5},  ratio : {y / len(train_df) : .5f} , valid_count :  { int(int(len(train_df) * valid_ratio) * (y / len(train_df)))} ' )\n",
    "  valid_count[x] = int(int(32470 * 0.2) * (y / len(train_df)))"
   ]
  },
  {
   "cell_type": "code",
   "execution_count": 16,
   "metadata": {},
   "outputs": [],
   "source": [
    "#추출전 데이터 shuffle\n",
    "train_df = train_df.sample(frac=1)"
   ]
  },
  {
   "cell_type": "code",
   "execution_count": 18,
   "metadata": {},
   "outputs": [],
   "source": [
    "#새로운 dataFrame 정의의\n",
    "new_valid_df = pd.DataFrame(columns=['id','sentence','subject_entity','object_entity','label','source'])\n",
    "new_train_df = pd.DataFrame(columns=['id','sentence','subject_entity','object_entity','label','source'])\n",
    "for idx, item in train_df.iterrows():\n",
    "  #print(item['id'], item['label'])\n",
    "  if valid_count[item['label']] > 0 :\n",
    "    valid_count[item['label']] = valid_count[item['label']] - 1\n",
    "    new_valid_df.loc[idx]=item\n",
    "  else :\n",
    "    new_train_df.loc[idx]=item"
   ]
  },
  {
   "cell_type": "code",
   "execution_count": 19,
   "metadata": {},
   "outputs": [
    {
     "name": "stdout",
     "output_type": "stream",
     "text": [
      "train_df len : 25986\n",
      "valid_df len ; 6484\n"
     ]
    }
   ],
   "source": [
    "#새로운 train_df, valid_df 길이 계산\n",
    "print( f'train_df len : {len(new_train_df)}')\n",
    "print( f'valid_df len ; {len(new_valid_df)}')"
   ]
  },
  {
   "cell_type": "code",
   "execution_count": 20,
   "metadata": {},
   "outputs": [
    {
     "data": {
      "text/plain": [
       "0"
      ]
     },
     "execution_count": 20,
     "metadata": {},
     "output_type": "execute_result"
    }
   ],
   "source": [
    "#dict 타입 변수에 저장한 데이터 전부 추출되었는지 확인\n",
    "sum(valid_count.values())"
   ]
  },
  {
   "cell_type": "code",
   "execution_count": 21,
   "metadata": {},
   "outputs": [],
   "source": [
    "#train_ valid id types 변경\n",
    "new_valid_df = new_valid_df.astype({'id':'int64'})\n",
    "new_train_df = new_train_df.astype({'id':'int64'})"
   ]
  },
  {
   "cell_type": "code",
   "execution_count": 22,
   "metadata": {},
   "outputs": [
    {
     "data": {
      "text/plain": [
       "id                 int64\n",
       "sentence          object\n",
       "subject_entity    object\n",
       "object_entity     object\n",
       "label             object\n",
       "source            object\n",
       "dtype: object"
      ]
     },
     "execution_count": 22,
     "metadata": {},
     "output_type": "execute_result"
    }
   ],
   "source": [
    "new_train_df.dtypes"
   ]
  },
  {
   "cell_type": "code",
   "execution_count": 23,
   "metadata": {},
   "outputs": [
    {
     "data": {
      "text/plain": [
       "id                 int64\n",
       "sentence          object\n",
       "subject_entity    object\n",
       "object_entity     object\n",
       "label             object\n",
       "source            object\n",
       "dtype: object"
      ]
     },
     "execution_count": 23,
     "metadata": {},
     "output_type": "execute_result"
    }
   ],
   "source": [
    "new_valid_df.dtypes"
   ]
  },
  {
   "cell_type": "code",
   "execution_count": 24,
   "metadata": {},
   "outputs": [
    {
     "data": {
      "text/html": [
       "<div>\n",
       "<style scoped>\n",
       "    .dataframe tbody tr th:only-of-type {\n",
       "        vertical-align: middle;\n",
       "    }\n",
       "\n",
       "    .dataframe tbody tr th {\n",
       "        vertical-align: top;\n",
       "    }\n",
       "\n",
       "    .dataframe thead th {\n",
       "        text-align: right;\n",
       "    }\n",
       "</style>\n",
       "<table border=\"1\" class=\"dataframe\">\n",
       "  <thead>\n",
       "    <tr style=\"text-align: right;\">\n",
       "      <th></th>\n",
       "      <th>id</th>\n",
       "      <th>sentence</th>\n",
       "      <th>subject_entity</th>\n",
       "      <th>object_entity</th>\n",
       "      <th>label</th>\n",
       "      <th>source</th>\n",
       "    </tr>\n",
       "  </thead>\n",
       "  <tbody>\n",
       "    <tr>\n",
       "      <th>244</th>\n",
       "      <td>244</td>\n",
       "      <td>또한 비문에는 사무드라굽타가 비슈누파 힌두교 신자라는 내용이 언급되어 있는데, 비문...</td>\n",
       "      <td>{'word': '사무드라굽타', 'start_idx': 52, 'end_idx':...</td>\n",
       "      <td>{'word': '힌두교', 'start_idx': 21, 'end_idx': 23...</td>\n",
       "      <td>per:religion</td>\n",
       "      <td>wikipedia</td>\n",
       "    </tr>\n",
       "    <tr>\n",
       "      <th>27079</th>\n",
       "      <td>27079</td>\n",
       "      <td>1612년 9월 12일 고스티닌 성에서 사망했으며 1635년 러시아 차르국의 차르였...</td>\n",
       "      <td>{'word': '바실리 4세', 'start_idx': 63, 'end_idx':...</td>\n",
       "      <td>{'word': '고스티닌 성', 'start_idx': 13, 'end_idx':...</td>\n",
       "      <td>per:place_of_death</td>\n",
       "      <td>wikipedia</td>\n",
       "    </tr>\n",
       "    <tr>\n",
       "      <th>31344</th>\n",
       "      <td>31344</td>\n",
       "      <td>퀘이커는 영국 정부에 의해 탄압받았으나, 퀘이커 신도 윌리엄 펜이 불하받은 북아메리...</td>\n",
       "      <td>{'word': '윌리엄 펜', 'start_idx': 30, 'end_idx': ...</td>\n",
       "      <td>{'word': '퀘이커', 'start_idx': 23, 'end_idx': 25...</td>\n",
       "      <td>per:religion</td>\n",
       "      <td>wikipedia</td>\n",
       "    </tr>\n",
       "    <tr>\n",
       "      <th>13518</th>\n",
       "      <td>13518</td>\n",
       "      <td>대한민국에서는 1999년 '향기 나는 양복'을 개발한 FnC 코오롱의 권혁호씨가 환...</td>\n",
       "      <td>{'word': '문선명', 'start_idx': 76, 'end_idx': 78...</td>\n",
       "      <td>{'word': '통일교', 'start_idx': 72, 'end_idx': 74...</td>\n",
       "      <td>per:religion</td>\n",
       "      <td>wikipedia</td>\n",
       "    </tr>\n",
       "    <tr>\n",
       "      <th>2398</th>\n",
       "      <td>2398</td>\n",
       "      <td>헤이안 시대에는 당나라 유학 승려 출신인 사이초와 구카이가 각각 천태종과 진언종을 ...</td>\n",
       "      <td>{'word': '사이초', 'start_idx': 23, 'end_idx': 25...</td>\n",
       "      <td>{'word': '천태종', 'start_idx': 36, 'end_idx': 38...</td>\n",
       "      <td>per:religion</td>\n",
       "      <td>wikipedia</td>\n",
       "    </tr>\n",
       "  </tbody>\n",
       "</table>\n",
       "</div>"
      ],
      "text/plain": [
       "          id                                           sentence  \\\n",
       "244      244  또한 비문에는 사무드라굽타가 비슈누파 힌두교 신자라는 내용이 언급되어 있는데, 비문...   \n",
       "27079  27079  1612년 9월 12일 고스티닌 성에서 사망했으며 1635년 러시아 차르국의 차르였...   \n",
       "31344  31344  퀘이커는 영국 정부에 의해 탄압받았으나, 퀘이커 신도 윌리엄 펜이 불하받은 북아메리...   \n",
       "13518  13518  대한민국에서는 1999년 '향기 나는 양복'을 개발한 FnC 코오롱의 권혁호씨가 환...   \n",
       "2398    2398  헤이안 시대에는 당나라 유학 승려 출신인 사이초와 구카이가 각각 천태종과 진언종을 ...   \n",
       "\n",
       "                                          subject_entity  \\\n",
       "244    {'word': '사무드라굽타', 'start_idx': 52, 'end_idx':...   \n",
       "27079  {'word': '바실리 4세', 'start_idx': 63, 'end_idx':...   \n",
       "31344  {'word': '윌리엄 펜', 'start_idx': 30, 'end_idx': ...   \n",
       "13518  {'word': '문선명', 'start_idx': 76, 'end_idx': 78...   \n",
       "2398   {'word': '사이초', 'start_idx': 23, 'end_idx': 25...   \n",
       "\n",
       "                                           object_entity               label  \\\n",
       "244    {'word': '힌두교', 'start_idx': 21, 'end_idx': 23...        per:religion   \n",
       "27079  {'word': '고스티닌 성', 'start_idx': 13, 'end_idx':...  per:place_of_death   \n",
       "31344  {'word': '퀘이커', 'start_idx': 23, 'end_idx': 25...        per:religion   \n",
       "13518  {'word': '통일교', 'start_idx': 72, 'end_idx': 74...        per:religion   \n",
       "2398   {'word': '천태종', 'start_idx': 36, 'end_idx': 38...        per:religion   \n",
       "\n",
       "          source  \n",
       "244    wikipedia  \n",
       "27079  wikipedia  \n",
       "31344  wikipedia  \n",
       "13518  wikipedia  \n",
       "2398   wikipedia  "
      ]
     },
     "execution_count": 24,
     "metadata": {},
     "output_type": "execute_result"
    }
   ],
   "source": [
    "new_train_df.head()"
   ]
  },
  {
   "cell_type": "code",
   "execution_count": 25,
   "metadata": {},
   "outputs": [
    {
     "data": {
      "text/html": [
       "<div>\n",
       "<style scoped>\n",
       "    .dataframe tbody tr th:only-of-type {\n",
       "        vertical-align: middle;\n",
       "    }\n",
       "\n",
       "    .dataframe tbody tr th {\n",
       "        vertical-align: top;\n",
       "    }\n",
       "\n",
       "    .dataframe thead th {\n",
       "        text-align: right;\n",
       "    }\n",
       "</style>\n",
       "<table border=\"1\" class=\"dataframe\">\n",
       "  <thead>\n",
       "    <tr style=\"text-align: right;\">\n",
       "      <th></th>\n",
       "      <th>id</th>\n",
       "      <th>sentence</th>\n",
       "      <th>subject_entity</th>\n",
       "      <th>object_entity</th>\n",
       "      <th>label</th>\n",
       "      <th>source</th>\n",
       "    </tr>\n",
       "  </thead>\n",
       "  <tbody>\n",
       "    <tr>\n",
       "      <th>25484</th>\n",
       "      <td>25484</td>\n",
       "      <td>이듬해 1991년 4월 15일에 평화민주당을 신민주연합당으로 확대, 재개편한 후 당...</td>\n",
       "      <td>{'word': '신민주연합', 'start_idx': 25, 'end_idx': ...</td>\n",
       "      <td>{'word': '민주당', 'start_idx': 20, 'end_idx': 22...</td>\n",
       "      <td>no_relation</td>\n",
       "      <td>wikipedia</td>\n",
       "    </tr>\n",
       "    <tr>\n",
       "      <th>158</th>\n",
       "      <td>158</td>\n",
       "      <td>지난 5일 SBS 보도에 따르면 최근 서수길 대표는 아프리카TV BJ 김인호(김영진...</td>\n",
       "      <td>{'word': '아프리카TV', 'start_idx': 29, 'end_idx':...</td>\n",
       "      <td>{'word': '서수길', 'start_idx': 21, 'end_idx': 23...</td>\n",
       "      <td>org:top_members/employees</td>\n",
       "      <td>wikitree</td>\n",
       "    </tr>\n",
       "    <tr>\n",
       "      <th>27453</th>\n",
       "      <td>27453</td>\n",
       "      <td>1422년 잉글랜드의 헨리 5세와 프랑스의 샤를 6세가 잇달아 죽자 나이 어린 헨리...</td>\n",
       "      <td>{'word': '샤를 6세', 'start_idx': 24, 'end_idx': ...</td>\n",
       "      <td>{'word': '샤를 7세', 'start_idx': 93, 'end_idx': ...</td>\n",
       "      <td>per:children</td>\n",
       "      <td>wikipedia</td>\n",
       "    </tr>\n",
       "    <tr>\n",
       "      <th>1148</th>\n",
       "      <td>1148</td>\n",
       "      <td>그는 리처드 도킨스 (Richard Dawkins), 크리스토퍼 히친스 (Chris...</td>\n",
       "      <td>{'word': '도킨스', 'start_idx': 7, 'end_idx': 9, ...</td>\n",
       "      <td>{'word': '무신론', 'start_idx': 92, 'end_idx': 94...</td>\n",
       "      <td>per:religion</td>\n",
       "      <td>wikipedia</td>\n",
       "    </tr>\n",
       "    <tr>\n",
       "      <th>25718</th>\n",
       "      <td>25718</td>\n",
       "      <td>양커는 TSG 비스마르 (TSG Wismar), 한자 로스토크, 1. FC 쾰른에서...</td>\n",
       "      <td>{'word': '1. FC 쾰른', 'start_idx': 74, 'end_idx...</td>\n",
       "      <td>{'word': '분데스리가', 'start_idx': 67, 'end_idx': ...</td>\n",
       "      <td>org:member_of</td>\n",
       "      <td>wikipedia</td>\n",
       "    </tr>\n",
       "  </tbody>\n",
       "</table>\n",
       "</div>"
      ],
      "text/plain": [
       "          id                                           sentence  \\\n",
       "25484  25484  이듬해 1991년 4월 15일에 평화민주당을 신민주연합당으로 확대, 재개편한 후 당...   \n",
       "158      158  지난 5일 SBS 보도에 따르면 최근 서수길 대표는 아프리카TV BJ 김인호(김영진...   \n",
       "27453  27453  1422년 잉글랜드의 헨리 5세와 프랑스의 샤를 6세가 잇달아 죽자 나이 어린 헨리...   \n",
       "1148    1148  그는 리처드 도킨스 (Richard Dawkins), 크리스토퍼 히친스 (Chris...   \n",
       "25718  25718  양커는 TSG 비스마르 (TSG Wismar), 한자 로스토크, 1. FC 쾰른에서...   \n",
       "\n",
       "                                          subject_entity  \\\n",
       "25484  {'word': '신민주연합', 'start_idx': 25, 'end_idx': ...   \n",
       "158    {'word': '아프리카TV', 'start_idx': 29, 'end_idx':...   \n",
       "27453  {'word': '샤를 6세', 'start_idx': 24, 'end_idx': ...   \n",
       "1148   {'word': '도킨스', 'start_idx': 7, 'end_idx': 9, ...   \n",
       "25718  {'word': '1. FC 쾰른', 'start_idx': 74, 'end_idx...   \n",
       "\n",
       "                                           object_entity  \\\n",
       "25484  {'word': '민주당', 'start_idx': 20, 'end_idx': 22...   \n",
       "158    {'word': '서수길', 'start_idx': 21, 'end_idx': 23...   \n",
       "27453  {'word': '샤를 7세', 'start_idx': 93, 'end_idx': ...   \n",
       "1148   {'word': '무신론', 'start_idx': 92, 'end_idx': 94...   \n",
       "25718  {'word': '분데스리가', 'start_idx': 67, 'end_idx': ...   \n",
       "\n",
       "                           label     source  \n",
       "25484                no_relation  wikipedia  \n",
       "158    org:top_members/employees   wikitree  \n",
       "27453               per:children  wikipedia  \n",
       "1148                per:religion  wikipedia  \n",
       "25718              org:member_of  wikipedia  "
      ]
     },
     "execution_count": 25,
     "metadata": {},
     "output_type": "execute_result"
    }
   ],
   "source": [
    "new_valid_df.head()"
   ]
  },
  {
   "cell_type": "code",
   "execution_count": 26,
   "metadata": {},
   "outputs": [
    {
     "name": "stdout",
     "output_type": "stream",
     "text": [
      "중복인덱스 확인 :  True\n",
      "총개수 확인 : True\n"
     ]
    }
   ],
   "source": [
    "#중복 index 확인\n",
    "train_id = new_train_df['id'].tolist()\n",
    "valid_id = new_valid_df['id'].tolist()\n",
    "\n",
    "print(\"중복인덱스 확인 : \" , len(set(train_id) & set(valid_id)) == 0 )\n",
    "print(\"총개수 확인 :\" , (len(train_id) + len(valid_id)) == len(train_df) ) #train_df와 개수 같은지 확인\n"
   ]
  },
  {
   "cell_type": "code",
   "execution_count": 27,
   "metadata": {},
   "outputs": [
    {
     "data": {
      "text/plain": [
       "no_relation                            7628\n",
       "org:top_members/employees              3428\n",
       "per:employee_of                        2859\n",
       "per:title                              1683\n",
       "org:member_of                          1493\n",
       "org:alternate_names                    1056\n",
       "per:origin                              988\n",
       "org:place_of_headquarters               956\n",
       "per:date_of_birth                       904\n",
       "per:alternate_names                     801\n",
       "per:spouse                              636\n",
       "per:colleagues                          428\n",
       "per:parents                             416\n",
       "org:founded                             360\n",
       "org:members                             336\n",
       "per:date_of_death                       335\n",
       "org:product                             304\n",
       "per:children                            244\n",
       "per:place_of_residence                  155\n",
       "per:other_family                        152\n",
       "per:place_of_birth                      133\n",
       "org:founded_by                          124\n",
       "per:product                             112\n",
       "per:siblings                            109\n",
       "org:political/religious_affiliation      79\n",
       "per:religion                             77\n",
       "per:schools_attended                     66\n",
       "org:dissolved                            53\n",
       "org:number_of_employees/members          39\n",
       "per:place_of_death                       32\n",
       "Name: label, dtype: int64"
      ]
     },
     "execution_count": 27,
     "metadata": {},
     "output_type": "execute_result"
    }
   ],
   "source": [
    "#새로운 train 라벨별 개수 확인\n",
    "new_train_group = new_train_df['label'].value_counts()\n",
    "new_train_group"
   ]
  },
  {
   "cell_type": "code",
   "execution_count": 28,
   "metadata": {},
   "outputs": [
    {
     "data": {
      "text/plain": [
       "no_relation                            1906\n",
       "org:top_members/employees               856\n",
       "per:employee_of                         714\n",
       "per:title                               420\n",
       "org:member_of                           373\n",
       "org:alternate_names                     264\n",
       "per:origin                              246\n",
       "org:place_of_headquarters               239\n",
       "per:date_of_birth                       226\n",
       "per:alternate_names                     200\n",
       "per:spouse                              159\n",
       "per:colleagues                          106\n",
       "per:parents                             104\n",
       "org:founded                              90\n",
       "org:members                              84\n",
       "per:date_of_death                        83\n",
       "org:product                              76\n",
       "per:children                             60\n",
       "per:other_family                         38\n",
       "per:place_of_residence                   38\n",
       "per:place_of_birth                       33\n",
       "org:founded_by                           31\n",
       "per:product                              27\n",
       "per:siblings                             27\n",
       "per:religion                             19\n",
       "org:political/religious_affiliation      19\n",
       "per:schools_attended                     16\n",
       "org:dissolved                            13\n",
       "org:number_of_employees/members           9\n",
       "per:place_of_death                        8\n",
       "Name: label, dtype: int64"
      ]
     },
     "execution_count": 28,
     "metadata": {},
     "output_type": "execute_result"
    }
   ],
   "source": [
    "#새로운 valid 라벨별 개수 확인\n",
    "new_valid_group = new_valid_df['label'].value_counts()\n",
    "new_valid_group"
   ]
  },
  {
   "cell_type": "code",
   "execution_count": 29,
   "metadata": {},
   "outputs": [
    {
     "data": {
      "image/png": "[encoded data removed]",
      "text/plain": [
       "<Figure size 1440x504 with 2 Axes>"
      ]
     },
     "metadata": {
      "needs_background": "light"
     },
     "output_type": "display_data"
    }
   ],
   "source": [
    "#새로운 train , valid 비율 EDA\n",
    "fig, axes = plt.subplots(1, 2, figsize=(20, 7))\n",
    "axes[0].barh(new_train_group.index[::-1], new_train_group[::-1],color='royalblue')\n",
    "axes[1].barh(new_valid_group.index[::-1], new_valid_group[::-1],color='royalblue')\n",
    "plt.show()"
   ]
  },
  {
   "cell_type": "code",
   "execution_count": 30,
   "metadata": {},
   "outputs": [],
   "source": [
    "#csv 파일저장 , index 제거 및 utf-8 encoding\n",
    "new_train_df.to_csv('./new_train.csv',index=False, encoding = 'utf-8')\n",
    "new_valid_df.to_csv('./new_valid.csv',index=False, encoding = 'utf-8')"
   ]
  }
 ],
 "metadata": {
  "kernelspec": {
   "display_name": "Python 3.8.5 ('base')",
   "language": "python",
   "name": "python3"
  },
  "language_info": {
   "codemirror_mode": {
    "name": "ipython",
    "version": 3
   },
   "file_extension": ".py",
   "mimetype": "text/x-python",
   "name": "python",
   "nbconvert_exporter": "python",
   "pygments_lexer": "ipython3",
   "version": "3.8.5"
  },
  "orig_nbformat": 4,
  "vscode": {
   "interpreter": {
    "hash": "d4d1e4263499bec80672ea0156c357c1ee493ec2b1c70f0acce89fc37c4a6abe"
   }
  }
 },
 "nbformat": 4,
 "nbformat_minor": 2
}
