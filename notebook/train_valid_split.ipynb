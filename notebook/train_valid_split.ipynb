{
 "cells": [
  {
   "cell_type": "code",
   "execution_count": 1,
   "metadata": {},
   "outputs": [],
   "source": [
    "#!pip install matplotlib"
   ]
  },
  {
   "cell_type": "code",
   "execution_count": 2,
   "metadata": {},
   "outputs": [],
   "source": [
    "import pandas as pd\n",
    "import numpy as np\n",
    "import matplotlib.pyplot as plt"
   ]
  },
  {
   "cell_type": "code",
   "execution_count": 3,
   "metadata": {},
   "outputs": [],
   "source": [
    "train_df = pd.read_csv('/opt/ml/level2_klue_nlp-level2-nlp-11/dataset/train/train.csv')"
   ]
  },
  {
   "cell_type": "code",
   "execution_count": 4,
   "metadata": {},
   "outputs": [
    {
     "data": {
      "text/plain": [
       "id                 int64\n",
       "sentence          object\n",
       "subject_entity    object\n",
       "object_entity     object\n",
       "label             object\n",
       "source            object\n",
       "dtype: object"
      ]
     },
     "execution_count": 4,
     "metadata": {},
     "output_type": "execute_result"
    }
   ],
   "source": [
    "train_df.dtypes"
   ]
  },
  {
   "cell_type": "code",
   "execution_count": 5,
   "metadata": {},
   "outputs": [
    {
     "data": {
      "text/html": [
       "<div>\n",
       "<style scoped>\n",
       "    .dataframe tbody tr th:only-of-type {\n",
       "        vertical-align: middle;\n",
       "    }\n",
       "\n",
       "    .dataframe tbody tr th {\n",
       "        vertical-align: top;\n",
       "    }\n",
       "\n",
       "    .dataframe thead th {\n",
       "        text-align: right;\n",
       "    }\n",
       "</style>\n",
       "<table border=\"1\" class=\"dataframe\">\n",
       "  <thead>\n",
       "    <tr style=\"text-align: right;\">\n",
       "      <th></th>\n",
       "      <th>id</th>\n",
       "      <th>sentence</th>\n",
       "      <th>subject_entity</th>\n",
       "      <th>object_entity</th>\n",
       "      <th>label</th>\n",
       "      <th>source</th>\n",
       "    </tr>\n",
       "  </thead>\n",
       "  <tbody>\n",
       "    <tr>\n",
       "      <th>0</th>\n",
       "      <td>0</td>\n",
       "      <td>〈Something〉는 조지 해리슨이 쓰고 비틀즈가 1969년 앨범 《Abbey R...</td>\n",
       "      <td>{'word': '비틀즈', 'start_idx': 24, 'end_idx': 26...</td>\n",
       "      <td>{'word': '조지 해리슨', 'start_idx': 13, 'end_idx':...</td>\n",
       "      <td>no_relation</td>\n",
       "      <td>wikipedia</td>\n",
       "    </tr>\n",
       "    <tr>\n",
       "      <th>1</th>\n",
       "      <td>1</td>\n",
       "      <td>호남이 기반인 바른미래당·대안신당·민주평화당이 우여곡절 끝에 합당해 민생당(가칭)으...</td>\n",
       "      <td>{'word': '민주평화당', 'start_idx': 19, 'end_idx': ...</td>\n",
       "      <td>{'word': '대안신당', 'start_idx': 14, 'end_idx': 1...</td>\n",
       "      <td>no_relation</td>\n",
       "      <td>wikitree</td>\n",
       "    </tr>\n",
       "    <tr>\n",
       "      <th>2</th>\n",
       "      <td>2</td>\n",
       "      <td>K리그2에서 성적 1위를 달리고 있는 광주FC는 지난 26일 한국프로축구연맹으로부터...</td>\n",
       "      <td>{'word': '광주FC', 'start_idx': 21, 'end_idx': 2...</td>\n",
       "      <td>{'word': '한국프로축구연맹', 'start_idx': 34, 'end_idx...</td>\n",
       "      <td>org:member_of</td>\n",
       "      <td>wikitree</td>\n",
       "    </tr>\n",
       "    <tr>\n",
       "      <th>3</th>\n",
       "      <td>3</td>\n",
       "      <td>균일가 생활용품점 (주)아성다이소(대표 박정부)는 코로나19 바이러스로 어려움을 겪...</td>\n",
       "      <td>{'word': '아성다이소', 'start_idx': 13, 'end_idx': ...</td>\n",
       "      <td>{'word': '박정부', 'start_idx': 22, 'end_idx': 24...</td>\n",
       "      <td>org:top_members/employees</td>\n",
       "      <td>wikitree</td>\n",
       "    </tr>\n",
       "    <tr>\n",
       "      <th>4</th>\n",
       "      <td>4</td>\n",
       "      <td>1967년 프로 야구 드래프트 1순위로 요미우리 자이언츠에게 입단하면서 등번호는 8...</td>\n",
       "      <td>{'word': '요미우리 자이언츠', 'start_idx': 22, 'end_id...</td>\n",
       "      <td>{'word': '1967', 'start_idx': 0, 'end_idx': 3,...</td>\n",
       "      <td>no_relation</td>\n",
       "      <td>wikipedia</td>\n",
       "    </tr>\n",
       "  </tbody>\n",
       "</table>\n",
       "</div>"
      ],
      "text/plain": [
       "   id                                           sentence  \\\n",
       "0   0  〈Something〉는 조지 해리슨이 쓰고 비틀즈가 1969년 앨범 《Abbey R...   \n",
       "1   1  호남이 기반인 바른미래당·대안신당·민주평화당이 우여곡절 끝에 합당해 민생당(가칭)으...   \n",
       "2   2  K리그2에서 성적 1위를 달리고 있는 광주FC는 지난 26일 한국프로축구연맹으로부터...   \n",
       "3   3  균일가 생활용품점 (주)아성다이소(대표 박정부)는 코로나19 바이러스로 어려움을 겪...   \n",
       "4   4  1967년 프로 야구 드래프트 1순위로 요미우리 자이언츠에게 입단하면서 등번호는 8...   \n",
       "\n",
       "                                      subject_entity  \\\n",
       "0  {'word': '비틀즈', 'start_idx': 24, 'end_idx': 26...   \n",
       "1  {'word': '민주평화당', 'start_idx': 19, 'end_idx': ...   \n",
       "2  {'word': '광주FC', 'start_idx': 21, 'end_idx': 2...   \n",
       "3  {'word': '아성다이소', 'start_idx': 13, 'end_idx': ...   \n",
       "4  {'word': '요미우리 자이언츠', 'start_idx': 22, 'end_id...   \n",
       "\n",
       "                                       object_entity  \\\n",
       "0  {'word': '조지 해리슨', 'start_idx': 13, 'end_idx':...   \n",
       "1  {'word': '대안신당', 'start_idx': 14, 'end_idx': 1...   \n",
       "2  {'word': '한국프로축구연맹', 'start_idx': 34, 'end_idx...   \n",
       "3  {'word': '박정부', 'start_idx': 22, 'end_idx': 24...   \n",
       "4  {'word': '1967', 'start_idx': 0, 'end_idx': 3,...   \n",
       "\n",
       "                       label     source  \n",
       "0                no_relation  wikipedia  \n",
       "1                no_relation   wikitree  \n",
       "2              org:member_of   wikitree  \n",
       "3  org:top_members/employees   wikitree  \n",
       "4                no_relation  wikipedia  "
      ]
     },
     "execution_count": 5,
     "metadata": {},
     "output_type": "execute_result"
    }
   ],
   "source": [
    "train_df.head()"
   ]
  },
  {
   "cell_type": "code",
   "execution_count": 6,
   "metadata": {},
   "outputs": [
    {
     "data": {
      "text/plain": [
       "no_relation                            9534\n",
       "org:top_members/employees              4284\n",
       "per:employee_of                        3573\n",
       "per:title                              2103\n",
       "org:member_of                          1866\n",
       "org:alternate_names                    1320\n",
       "per:origin                             1234\n",
       "org:place_of_headquarters              1195\n",
       "per:date_of_birth                      1130\n",
       "per:alternate_names                    1001\n",
       "per:spouse                              795\n",
       "per:colleagues                          534\n",
       "per:parents                             520\n",
       "org:founded                             450\n",
       "org:members                             420\n",
       "per:date_of_death                       418\n",
       "org:product                             380\n",
       "per:children                            304\n",
       "per:place_of_residence                  193\n",
       "per:other_family                        190\n",
       "per:place_of_birth                      166\n",
       "org:founded_by                          155\n",
       "per:product                             139\n",
       "per:siblings                            136\n",
       "org:political/religious_affiliation      98\n",
       "per:religion                             96\n",
       "per:schools_attended                     82\n",
       "org:dissolved                            66\n",
       "org:number_of_employees/members          48\n",
       "per:place_of_death                       40\n",
       "Name: label, dtype: int64"
      ]
     },
     "execution_count": 6,
     "metadata": {},
     "output_type": "execute_result"
    }
   ],
   "source": [
    "#train_label 별 개수 확인인\n",
    "group = train_df['label'].value_counts()\n",
    "group"
   ]
  },
  {
   "cell_type": "code",
   "execution_count": 7,
   "metadata": {},
   "outputs": [
    {
     "data": {
      "image/png": "[encoded data removed]",
      "text/plain": [
       "<Figure size 1080x504 with 1 Axes>"
      ]
     },
     "metadata": {
      "needs_background": "light"
     },
     "output_type": "display_data"
    }
   ],
   "source": [
    "#간단한 비율 확인 EDA\n",
    "fig, axes = plt.subplots(1, 1, figsize=(15, 7))\n",
    "axes.barh(group.index[::-1], group[::-1],color='royalblue')\n",
    "\n",
    "plt.show()"
   ]
  },
  {
   "cell_type": "code",
   "execution_count": 8,
   "metadata": {},
   "outputs": [
    {
     "name": "stdout",
     "output_type": "stream",
     "text": [
      "no_relation                              :  9534,  ratio :  0.29362 , valid_count :  953 \n",
      "org:top_members/employees                :  4284,  ratio :  0.13194 , valid_count :  428 \n",
      "per:employee_of                          :  3573,  ratio :  0.11004 , valid_count :  357 \n",
      "per:title                                :  2103,  ratio :  0.06477 , valid_count :  210 \n",
      "org:member_of                            :  1866,  ratio :  0.05747 , valid_count :  186 \n",
      "org:alternate_names                      :  1320,  ratio :  0.04065 , valid_count :  132 \n",
      "per:origin                               :  1234,  ratio :  0.03800 , valid_count :  123 \n",
      "org:place_of_headquarters                :  1195,  ratio :  0.03680 , valid_count :  119 \n",
      "per:date_of_birth                        :  1130,  ratio :  0.03480 , valid_count :  113 \n",
      "per:alternate_names                      :  1001,  ratio :  0.03083 , valid_count :  100 \n",
      "per:spouse                               :   795,  ratio :  0.02448 , valid_count :  79 \n",
      "per:colleagues                           :   534,  ratio :  0.01645 , valid_count :  53 \n",
      "per:parents                              :   520,  ratio :  0.01601 , valid_count :  52 \n",
      "org:founded                              :   450,  ratio :  0.01386 , valid_count :  45 \n",
      "org:members                              :   420,  ratio :  0.01294 , valid_count :  42 \n",
      "per:date_of_death                        :   418,  ratio :  0.01287 , valid_count :  41 \n",
      "org:product                              :   380,  ratio :  0.01170 , valid_count :  38 \n",
      "per:children                             :   304,  ratio :  0.00936 , valid_count :  30 \n",
      "per:place_of_residence                   :   193,  ratio :  0.00594 , valid_count :  19 \n",
      "per:other_family                         :   190,  ratio :  0.00585 , valid_count :  19 \n",
      "per:place_of_birth                       :   166,  ratio :  0.00511 , valid_count :  16 \n",
      "org:founded_by                           :   155,  ratio :  0.00477 , valid_count :  15 \n",
      "per:product                              :   139,  ratio :  0.00428 , valid_count :  13 \n",
      "per:siblings                             :   136,  ratio :  0.00419 , valid_count :  13 \n",
      "org:political/religious_affiliation      :    98,  ratio :  0.00302 , valid_count :  9 \n",
      "per:religion                             :    96,  ratio :  0.00296 , valid_count :  9 \n",
      "per:schools_attended                     :    82,  ratio :  0.00253 , valid_count :  8 \n",
      "org:dissolved                            :    66,  ratio :  0.00203 , valid_count :  6 \n",
      "org:number_of_employees/members          :    48,  ratio :  0.00148 , valid_count :  4 \n",
      "per:place_of_death                       :    40,  ratio :  0.00123 , valid_count :  4 \n"
     ]
    }
   ],
   "source": [
    "#train라벨별 추출할 valid 개수 계산\n",
    "valid_count = {}\n",
    "valid_ratio = 0.1\n",
    "for x, y in group.items() :\n",
    "  print(f'{x:40} : {y:5},  ratio : {y / len(train_df) : .5f} , valid_count :  { int(int(len(train_df) * valid_ratio) * (y / len(train_df)))} ' )\n",
    "  valid_count[x] = int(int(len(train_df) * valid_ratio) * (y / len(train_df)))"
   ]
  },
  {
   "cell_type": "code",
   "execution_count": 9,
   "metadata": {},
   "outputs": [],
   "source": [
    "#추출전 데이터 shuffle\n",
    "train_df = train_df.sample(frac=1)"
   ]
  },
  {
   "cell_type": "code",
   "execution_count": 10,
   "metadata": {},
   "outputs": [],
   "source": [
    "#새로운 dataFrame 정의의\n",
    "new_valid_df = pd.DataFrame(columns=['id','sentence','subject_entity','object_entity','label','source'])\n",
    "new_train_df = pd.DataFrame(columns=['id','sentence','subject_entity','object_entity','label','source'])\n",
    "for idx, item in train_df.iterrows():\n",
    "  #print(item['id'], item['label'])\n",
    "  if valid_count[item['label']] > 0 :\n",
    "    valid_count[item['label']] = valid_count[item['label']] - 1\n",
    "    new_valid_df.loc[idx]=item\n",
    "  else :\n",
    "    new_train_df.loc[idx]=item"
   ]
  },
  {
   "cell_type": "code",
   "execution_count": 11,
   "metadata": {},
   "outputs": [
    {
     "name": "stdout",
     "output_type": "stream",
     "text": [
      "train_df len : 29234\n",
      "valid_df len ; 3236\n"
     ]
    }
   ],
   "source": [
    "#새로운 train_df, valid_df 길이 계산\n",
    "print( f'train_df len : {len(new_train_df)}')\n",
    "print( f'valid_df len ; {len(new_valid_df)}')"
   ]
  },
  {
   "cell_type": "code",
   "execution_count": 12,
   "metadata": {},
   "outputs": [
    {
     "data": {
      "text/plain": [
       "0"
      ]
     },
     "execution_count": 12,
     "metadata": {},
     "output_type": "execute_result"
    }
   ],
   "source": [
    "#dict 타입 변수에 저장한 데이터 전부 추출되었는지 확인\n",
    "sum(valid_count.values())"
   ]
  },
  {
   "cell_type": "code",
   "execution_count": 13,
   "metadata": {},
   "outputs": [],
   "source": [
    "#train_ valid id types 변경\n",
    "new_valid_df = new_valid_df.astype({'id':'int64'})\n",
    "new_train_df = new_train_df.astype({'id':'int64'})"
   ]
  },
  {
   "cell_type": "code",
   "execution_count": 14,
   "metadata": {},
   "outputs": [
    {
     "data": {
      "text/plain": [
       "id                 int64\n",
       "sentence          object\n",
       "subject_entity    object\n",
       "object_entity     object\n",
       "label             object\n",
       "source            object\n",
       "dtype: object"
      ]
     },
     "execution_count": 14,
     "metadata": {},
     "output_type": "execute_result"
    }
   ],
   "source": [
    "new_train_df.dtypes"
   ]
  },
  {
   "cell_type": "code",
   "execution_count": 15,
   "metadata": {},
   "outputs": [
    {
     "data": {
      "text/plain": [
       "id                 int64\n",
       "sentence          object\n",
       "subject_entity    object\n",
       "object_entity     object\n",
       "label             object\n",
       "source            object\n",
       "dtype: object"
      ]
     },
     "execution_count": 15,
     "metadata": {},
     "output_type": "execute_result"
    }
   ],
   "source": [
    "new_valid_df.dtypes"
   ]
  },
  {
   "cell_type": "code",
   "execution_count": 16,
   "metadata": {},
   "outputs": [
    {
     "data": {
      "text/html": [
       "<div>\n",
       "<style scoped>\n",
       "    .dataframe tbody tr th:only-of-type {\n",
       "        vertical-align: middle;\n",
       "    }\n",
       "\n",
       "    .dataframe tbody tr th {\n",
       "        vertical-align: top;\n",
       "    }\n",
       "\n",
       "    .dataframe thead th {\n",
       "        text-align: right;\n",
       "    }\n",
       "</style>\n",
       "<table border=\"1\" class=\"dataframe\">\n",
       "  <thead>\n",
       "    <tr style=\"text-align: right;\">\n",
       "      <th></th>\n",
       "      <th>id</th>\n",
       "      <th>sentence</th>\n",
       "      <th>subject_entity</th>\n",
       "      <th>object_entity</th>\n",
       "      <th>label</th>\n",
       "      <th>source</th>\n",
       "    </tr>\n",
       "  </thead>\n",
       "  <tbody>\n",
       "    <tr>\n",
       "      <th>23282</th>\n",
       "      <td>23282</td>\n",
       "      <td>더빈 의원은 \"내가 만약 한국에 산다면 북한이 한국에 퍼부을 수백 발의 미사일로부터...</td>\n",
       "      <td>{'word': '주한미군', 'start_idx': 274, 'end_idx': ...</td>\n",
       "      <td>{'word': '2만8천500명', 'start_idx': 222, 'end_id...</td>\n",
       "      <td>org:number_of_employees/members</td>\n",
       "      <td>wikipedia</td>\n",
       "    </tr>\n",
       "    <tr>\n",
       "      <th>5498</th>\n",
       "      <td>5498</td>\n",
       "      <td>서우학회는 본래 1905년 11월 1일 서우사범학교라는 속성사범과(速成師範科)를 만...</td>\n",
       "      <td>{'word': '서우사범학교', 'start_idx': 22, 'end_idx':...</td>\n",
       "      <td>{'word': '1905년', 'start_idx': 9, 'end_idx': 1...</td>\n",
       "      <td>org:founded</td>\n",
       "      <td>wikipedia</td>\n",
       "    </tr>\n",
       "    <tr>\n",
       "      <th>20243</th>\n",
       "      <td>20243</td>\n",
       "      <td>1904년 2월 28일, 스포르 리스보아 에 벤피카 (창단 당시 클럽명은 \"그루푸 ...</td>\n",
       "      <td>{'word': '벤피카', 'start_idx': 25, 'end_idx': 27...</td>\n",
       "      <td>{'word': '1904년 2월 28일', 'start_idx': 0, 'end_...</td>\n",
       "      <td>org:founded</td>\n",
       "      <td>wikipedia</td>\n",
       "    </tr>\n",
       "    <tr>\n",
       "      <th>18405</th>\n",
       "      <td>18405</td>\n",
       "      <td>애니메이션 방송 전에 발매된 게임 《올 스타 배틀》로부터 성우진이 대폭 바뀌었고, ...</td>\n",
       "      <td>{'word': 'DIO', 'start_idx': 64, 'end_idx': 66...</td>\n",
       "      <td>{'word': '코야스 타케히토', 'start_idx': 70, 'end_idx...</td>\n",
       "      <td>per:alternate_names</td>\n",
       "      <td>wikipedia</td>\n",
       "    </tr>\n",
       "    <tr>\n",
       "      <th>23182</th>\n",
       "      <td>23182</td>\n",
       "      <td>안드라지 안투니스 안데르송(Andrade Antunes Anderson, 1981년...</td>\n",
       "      <td>{'word': '안드라지 안투니스 안데르송', 'start_idx': 0, 'en...</td>\n",
       "      <td>{'word': 'Andrade Antunes Anderson', 'start_id...</td>\n",
       "      <td>per:alternate_names</td>\n",
       "      <td>wikipedia</td>\n",
       "    </tr>\n",
       "  </tbody>\n",
       "</table>\n",
       "</div>"
      ],
      "text/plain": [
       "          id                                           sentence  \\\n",
       "23282  23282  더빈 의원은 \"내가 만약 한국에 산다면 북한이 한국에 퍼부을 수백 발의 미사일로부터...   \n",
       "5498    5498  서우학회는 본래 1905년 11월 1일 서우사범학교라는 속성사범과(速成師範科)를 만...   \n",
       "20243  20243  1904년 2월 28일, 스포르 리스보아 에 벤피카 (창단 당시 클럽명은 \"그루푸 ...   \n",
       "18405  18405  애니메이션 방송 전에 발매된 게임 《올 스타 배틀》로부터 성우진이 대폭 바뀌었고, ...   \n",
       "23182  23182  안드라지 안투니스 안데르송(Andrade Antunes Anderson, 1981년...   \n",
       "\n",
       "                                          subject_entity  \\\n",
       "23282  {'word': '주한미군', 'start_idx': 274, 'end_idx': ...   \n",
       "5498   {'word': '서우사범학교', 'start_idx': 22, 'end_idx':...   \n",
       "20243  {'word': '벤피카', 'start_idx': 25, 'end_idx': 27...   \n",
       "18405  {'word': 'DIO', 'start_idx': 64, 'end_idx': 66...   \n",
       "23182  {'word': '안드라지 안투니스 안데르송', 'start_idx': 0, 'en...   \n",
       "\n",
       "                                           object_entity  \\\n",
       "23282  {'word': '2만8천500명', 'start_idx': 222, 'end_id...   \n",
       "5498   {'word': '1905년', 'start_idx': 9, 'end_idx': 1...   \n",
       "20243  {'word': '1904년 2월 28일', 'start_idx': 0, 'end_...   \n",
       "18405  {'word': '코야스 타케히토', 'start_idx': 70, 'end_idx...   \n",
       "23182  {'word': 'Andrade Antunes Anderson', 'start_id...   \n",
       "\n",
       "                                 label     source  \n",
       "23282  org:number_of_employees/members  wikipedia  \n",
       "5498                       org:founded  wikipedia  \n",
       "20243                      org:founded  wikipedia  \n",
       "18405              per:alternate_names  wikipedia  \n",
       "23182              per:alternate_names  wikipedia  "
      ]
     },
     "execution_count": 16,
     "metadata": {},
     "output_type": "execute_result"
    }
   ],
   "source": [
    "new_train_df.head()"
   ]
  },
  {
   "cell_type": "code",
   "execution_count": 17,
   "metadata": {},
   "outputs": [
    {
     "data": {
      "text/html": [
       "<div>\n",
       "<style scoped>\n",
       "    .dataframe tbody tr th:only-of-type {\n",
       "        vertical-align: middle;\n",
       "    }\n",
       "\n",
       "    .dataframe tbody tr th {\n",
       "        vertical-align: top;\n",
       "    }\n",
       "\n",
       "    .dataframe thead th {\n",
       "        text-align: right;\n",
       "    }\n",
       "</style>\n",
       "<table border=\"1\" class=\"dataframe\">\n",
       "  <thead>\n",
       "    <tr style=\"text-align: right;\">\n",
       "      <th></th>\n",
       "      <th>id</th>\n",
       "      <th>sentence</th>\n",
       "      <th>subject_entity</th>\n",
       "      <th>object_entity</th>\n",
       "      <th>label</th>\n",
       "      <th>source</th>\n",
       "    </tr>\n",
       "  </thead>\n",
       "  <tbody>\n",
       "    <tr>\n",
       "      <th>14508</th>\n",
       "      <td>14508</td>\n",
       "      <td>파펜과 독일 국가인민당 당수인 알프레트 후겐베르크는 만약 총리가 필요한 경우 히틀러...</td>\n",
       "      <td>{'word': '헤르만 괴링', 'start_idx': 52, 'end_idx':...</td>\n",
       "      <td>{'word': '히틀러 내각', 'start_idx': 43, 'end_idx':...</td>\n",
       "      <td>per:employee_of</td>\n",
       "      <td>wikipedia</td>\n",
       "    </tr>\n",
       "    <tr>\n",
       "      <th>12091</th>\n",
       "      <td>12091</td>\n",
       "      <td>2014년 9월 22일, MGM은 One Three Media 와 LightWork...</td>\n",
       "      <td>{'word': '유나이티드 아티스츠', 'start_idx': 107, 'end_...</td>\n",
       "      <td>{'word': '마크 버넷', 'start_idx': 62, 'end_idx': ...</td>\n",
       "      <td>org:founded_by</td>\n",
       "      <td>wikipedia</td>\n",
       "    </tr>\n",
       "    <tr>\n",
       "      <th>17067</th>\n",
       "      <td>17067</td>\n",
       "      <td>나나 크리스티안센은 브뢴뷔 IF에서 주전 미드필더로 활약하면서 브뢴뷔 IF의 엘리테...</td>\n",
       "      <td>{'word': '나나 크리스티안센', 'start_idx': 0, 'end_idx...</td>\n",
       "      <td>{'word': '미드필더', 'start_idx': 23, 'end_idx': 2...</td>\n",
       "      <td>per:title</td>\n",
       "      <td>wikipedia</td>\n",
       "    </tr>\n",
       "    <tr>\n",
       "      <th>8645</th>\n",
       "      <td>8645</td>\n",
       "      <td>김우빈은 자신이 맡은 최영도에 대해 “기본적으로 선한 면이 있다고 여겼으며, 반항하...</td>\n",
       "      <td>{'word': '최영도', 'start_idx': 12, 'end_idx': 14...</td>\n",
       "      <td>{'word': '김우빈', 'start_idx': 0, 'end_idx': 2, ...</td>\n",
       "      <td>per:alternate_names</td>\n",
       "      <td>wikipedia</td>\n",
       "    </tr>\n",
       "    <tr>\n",
       "      <th>22730</th>\n",
       "      <td>22730</td>\n",
       "      <td>강성태(~)는 대한민국의 저술가 겸 공신닷컴 CEO 및 학원인, 유튜버이다.</td>\n",
       "      <td>{'word': '강성태', 'start_idx': 0, 'end_idx': 2, ...</td>\n",
       "      <td>{'word': '공신닷컴', 'start_idx': 20, 'end_idx': 2...</td>\n",
       "      <td>per:employee_of</td>\n",
       "      <td>wikipedia</td>\n",
       "    </tr>\n",
       "  </tbody>\n",
       "</table>\n",
       "</div>"
      ],
      "text/plain": [
       "          id                                           sentence  \\\n",
       "14508  14508  파펜과 독일 국가인민당 당수인 알프레트 후겐베르크는 만약 총리가 필요한 경우 히틀러...   \n",
       "12091  12091  2014년 9월 22일, MGM은 One Three Media 와 LightWork...   \n",
       "17067  17067  나나 크리스티안센은 브뢴뷔 IF에서 주전 미드필더로 활약하면서 브뢴뷔 IF의 엘리테...   \n",
       "8645    8645  김우빈은 자신이 맡은 최영도에 대해 “기본적으로 선한 면이 있다고 여겼으며, 반항하...   \n",
       "22730  22730         강성태(~)는 대한민국의 저술가 겸 공신닷컴 CEO 및 학원인, 유튜버이다.   \n",
       "\n",
       "                                          subject_entity  \\\n",
       "14508  {'word': '헤르만 괴링', 'start_idx': 52, 'end_idx':...   \n",
       "12091  {'word': '유나이티드 아티스츠', 'start_idx': 107, 'end_...   \n",
       "17067  {'word': '나나 크리스티안센', 'start_idx': 0, 'end_idx...   \n",
       "8645   {'word': '최영도', 'start_idx': 12, 'end_idx': 14...   \n",
       "22730  {'word': '강성태', 'start_idx': 0, 'end_idx': 2, ...   \n",
       "\n",
       "                                           object_entity                label  \\\n",
       "14508  {'word': '히틀러 내각', 'start_idx': 43, 'end_idx':...      per:employee_of   \n",
       "12091  {'word': '마크 버넷', 'start_idx': 62, 'end_idx': ...       org:founded_by   \n",
       "17067  {'word': '미드필더', 'start_idx': 23, 'end_idx': 2...            per:title   \n",
       "8645   {'word': '김우빈', 'start_idx': 0, 'end_idx': 2, ...  per:alternate_names   \n",
       "22730  {'word': '공신닷컴', 'start_idx': 20, 'end_idx': 2...      per:employee_of   \n",
       "\n",
       "          source  \n",
       "14508  wikipedia  \n",
       "12091  wikipedia  \n",
       "17067  wikipedia  \n",
       "8645   wikipedia  \n",
       "22730  wikipedia  "
      ]
     },
     "execution_count": 17,
     "metadata": {},
     "output_type": "execute_result"
    }
   ],
   "source": [
    "new_valid_df.head()"
   ]
  },
  {
   "cell_type": "code",
   "execution_count": 18,
   "metadata": {},
   "outputs": [
    {
     "name": "stdout",
     "output_type": "stream",
     "text": [
      "중복인덱스 확인 :  True\n",
      "총개수 확인 : True\n"
     ]
    }
   ],
   "source": [
    "#중복 index 확인\n",
    "train_id = new_train_df['id'].tolist()\n",
    "valid_id = new_valid_df['id'].tolist()\n",
    "\n",
    "print(\"중복인덱스 확인 : \" , len(set(train_id) & set(valid_id)) == 0 )\n",
    "print(\"총개수 확인 :\" , (len(train_id) + len(valid_id)) == len(train_df) ) #train_df와 개수 같은지 확인\n"
   ]
  },
  {
   "cell_type": "code",
   "execution_count": 19,
   "metadata": {},
   "outputs": [
    {
     "data": {
      "text/plain": [
       "no_relation                            8581\n",
       "org:top_members/employees              3856\n",
       "per:employee_of                        3216\n",
       "per:title                              1893\n",
       "org:member_of                          1680\n",
       "org:alternate_names                    1188\n",
       "per:origin                             1111\n",
       "org:place_of_headquarters              1076\n",
       "per:date_of_birth                      1017\n",
       "per:alternate_names                     901\n",
       "per:spouse                              716\n",
       "per:colleagues                          481\n",
       "per:parents                             468\n",
       "org:founded                             405\n",
       "org:members                             378\n",
       "per:date_of_death                       377\n",
       "org:product                             342\n",
       "per:children                            274\n",
       "per:place_of_residence                  174\n",
       "per:other_family                        171\n",
       "per:place_of_birth                      150\n",
       "org:founded_by                          140\n",
       "per:product                             126\n",
       "per:siblings                            123\n",
       "org:political/religious_affiliation      89\n",
       "per:religion                             87\n",
       "per:schools_attended                     74\n",
       "org:dissolved                            60\n",
       "org:number_of_employees/members          44\n",
       "per:place_of_death                       36\n",
       "Name: label, dtype: int64"
      ]
     },
     "execution_count": 19,
     "metadata": {},
     "output_type": "execute_result"
    }
   ],
   "source": [
    "#새로운 train 라벨별 개수 확인\n",
    "new_train_group = new_train_df['label'].value_counts()\n",
    "new_train_group"
   ]
  },
  {
   "cell_type": "code",
   "execution_count": 20,
   "metadata": {},
   "outputs": [
    {
     "data": {
      "text/plain": [
       "no_relation                            953\n",
       "org:top_members/employees              428\n",
       "per:employee_of                        357\n",
       "per:title                              210\n",
       "org:member_of                          186\n",
       "org:alternate_names                    132\n",
       "per:origin                             123\n",
       "org:place_of_headquarters              119\n",
       "per:date_of_birth                      113\n",
       "per:alternate_names                    100\n",
       "per:spouse                              79\n",
       "per:colleagues                          53\n",
       "per:parents                             52\n",
       "org:founded                             45\n",
       "org:members                             42\n",
       "per:date_of_death                       41\n",
       "org:product                             38\n",
       "per:children                            30\n",
       "per:other_family                        19\n",
       "per:place_of_residence                  19\n",
       "per:place_of_birth                      16\n",
       "org:founded_by                          15\n",
       "per:product                             13\n",
       "per:siblings                            13\n",
       "org:political/religious_affiliation      9\n",
       "per:religion                             9\n",
       "per:schools_attended                     8\n",
       "org:dissolved                            6\n",
       "org:number_of_employees/members          4\n",
       "per:place_of_death                       4\n",
       "Name: label, dtype: int64"
      ]
     },
     "execution_count": 20,
     "metadata": {},
     "output_type": "execute_result"
    }
   ],
   "source": [
    "#새로운 valid 라벨별 개수 확인\n",
    "new_valid_group = new_valid_df['label'].value_counts()\n",
    "new_valid_group"
   ]
  },
  {
   "cell_type": "code",
   "execution_count": 21,
   "metadata": {},
   "outputs": [
    {
     "data": {
      "image/png": "[encoded data removed]",
      "text/plain": [
       "<Figure size 1440x504 with 2 Axes>"
      ]
     },
     "metadata": {
      "needs_background": "light"
     },
     "output_type": "display_data"
    }
   ],
   "source": [
    "#새로운 train , valid 비율 EDA\n",
    "fig, axes = plt.subplots(1, 2, figsize=(20, 7))\n",
    "axes[0].barh(new_train_group.index[::-1], new_train_group[::-1],color='royalblue')\n",
    "axes[1].barh(new_valid_group.index[::-1], new_valid_group[::-1],color='royalblue')\n",
    "plt.show()"
   ]
  },
  {
   "cell_type": "code",
   "execution_count": 22,
   "metadata": {},
   "outputs": [],
   "source": [
    "#csv 파일저장 , index 제거 및 utf-8 encoding\n",
    "new_train_df.to_csv('./new_train.csv',index=False, encoding = 'utf-8')\n",
    "new_valid_df.to_csv('./new_valid.csv',index=False, encoding = 'utf-8')"
   ]
  }
 ],
 "metadata": {
  "kernelspec": {
   "display_name": "Python 3.8.5 ('base')",
   "language": "python",
   "name": "python3"
  },
  "language_info": {
   "codemirror_mode": {
    "name": "ipython",
    "version": 3
   },
   "file_extension": ".py",
   "mimetype": "text/x-python",
   "name": "python",
   "nbconvert_exporter": "python",
   "pygments_lexer": "ipython3",
   "version": "3.8.5"
  },
  "orig_nbformat": 4,
  "vscode": {
   "interpreter": {
    "hash": "d4d1e4263499bec80672ea0156c357c1ee493ec2b1c70f0acce89fc37c4a6abe"
   }
  }
 },
 "nbformat": 4,
 "nbformat_minor": 2
}
