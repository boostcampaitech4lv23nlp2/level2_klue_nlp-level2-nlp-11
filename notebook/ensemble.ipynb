{
 "cells": [
  {
   "cell_type": "code",
   "execution_count": 5,
   "metadata": {},
   "outputs": [],
   "source": [
    "import pandas as pd\n",
    "import numpy as np\n",
    "\n",
    "1 40 57 44 45 21 10 55 59 46 52 61\n"
   ]
  },
  {
   "cell_type": "code",
   "execution_count": 226,
   "metadata": {},
   "outputs": [],
   "source": [
    "# 앙상블을 위한 데이터 경로\n",
    "FILE_PATH = \"/opt/ml/level2_klue_nlp-level2-nlp-11/dataset/prediction/ensemble/\"\n",
    "# 앙상블 결과 저장 이름\n",
    "ENSEMBLE_CSV_NAME = \"ensemble12_final5\"\n",
    "# 앙상블 할 모델 이름 리스트\n",
    "# csv_list = [\"output (1)\", \"output (10)\", \"output (21)\", \"output (40)\", \"output (44)\", \"output (45)\", \"output (46)\",\n",
    "#             \"output (52)\", \"output (55)\", \"output (57)\", \"output (59)\", \"output (61)\"]\n",
    "csv_list = [\"output (1)\", \"output (61)\", \"output (40)\", \"output (57)\", \"output (44)\", \"output (55)\", \"output (21)\",\n",
    "            \"output (59)\", \"output (51)\", \"output (46)\", \"output (53)\", \"output (45)\"]\n",
    "# 가중치\n",
    "# weight = [0.5, 0.5]"
   ]
  },
  {
   "cell_type": "code",
   "execution_count": 227,
   "metadata": {},
   "outputs": [
    {
     "name": "stdout",
     "output_type": "stream",
     "text": [
      "12\n"
     ]
    }
   ],
   "source": [
    "print(len(csv_list))"
   ]
  },
  {
   "cell_type": "code",
   "execution_count": 228,
   "metadata": {},
   "outputs": [
    {
     "name": "stdout",
     "output_type": "stream",
     "text": [
      "[0.08333333333333333, 0.08333333333333333, 0.08333333333333333, 0.08333333333333333, 0.08333333333333333, 0.08333333333333333, 0.08333333333333333, 0.08333333333333333, 0.08333333333333333, 0.08333333333333333, 0.08333333333333333, 0.08333333333333333]\n"
     ]
    }
   ],
   "source": [
    "BALANCED_WEIGHT = [1/12] *12\n",
    "print(BALANCED_WEIGHT)"
   ]
  },
  {
   "cell_type": "code",
   "execution_count": 230,
   "metadata": {},
   "outputs": [
    {
     "name": "stdout",
     "output_type": "stream",
     "text": [
      "1.0\n"
     ]
    }
   ],
   "source": [
    "BALANCED_WEIGHT = [1/12] *12\n",
    "# BALANCED_WEIGHT[] += 0.0000000000000002\n",
    "print(sum(BALANCED_WEIGHT))\n",
    "# assert len(csv_list) == len(weight), \"csv_list와 weight의 길이가 다릅니다.\"\n",
    "# assert sum(weight) == 1, \"가중치의 합은 1이어야 합니다.\"\n",
    "assert sum(BALANCED_WEIGHT) == 1"
   ]
  },
  {
   "cell_type": "code",
   "execution_count": 231,
   "metadata": {},
   "outputs": [
    {
     "name": "stdout",
     "output_type": "stream",
     "text": [
      "앙상블 할 csv 파일 개수 : 12\n",
      "앙상블 할 csv 파일 : ['output (1)', 'output (61)', 'output (40)', 'output (57)', 'output (44)', 'output (55)', 'output (21)', 'output (59)', 'output (51)', 'output (46)', 'output (53)', 'output (45)']\n"
     ]
    }
   ],
   "source": [
    "def get_csv(csv_list):\n",
    "    for csv in csv_list:\n",
    "        try:\n",
    "            yield pd.read_csv(FILE_PATH + csv + \".csv\")\n",
    "        except FileNotFoundError:\n",
    "            print(\"파일을 찾을 수 없습니다. 파일명을 확인해주세요.\")\n",
    "            break\n",
    "\n",
    "df_list = list(get_csv(csv_list))\n",
    "print(f\"앙상블 할 csv 파일 개수 : {len(df_list)}\\n앙상블 할 csv 파일 : {csv_list}\")"
   ]
  },
  {
   "cell_type": "code",
   "execution_count": 232,
   "metadata": {},
   "outputs": [],
   "source": [
    "# def probs_to_list(probs):\n",
    "#     return np.array([float(prob) for prob in probs[1:-1].split(\",\")])\n",
    "\n",
    "# df_list = [df.assign(probs=df[\"probs\"].apply(probs_to_list)) for df in df_list]\n",
    "\n",
    "\n",
    "# df[\"probs\"] = df[\"probs\"].apply(probs_to_list)\n",
    "# df_2[\"probs\"] = df_2[\"probs\"].apply(probs_to_list)\n",
    "\n",
    "\n",
    "# df['probs'] = df.probs.apply(lambda x: x[1:-1].split(','))\n",
    "# df['probs'] = df.probs.apply(lambda x: [float(i) for i in x])"
   ]
  },
  {
   "cell_type": "code",
   "execution_count": 233,
   "metadata": {},
   "outputs": [],
   "source": [
    "def probs_to_list(probs):\n",
    "    return np.array([float(prob) for prob in probs[1:-1].split(\",\")])\n",
    "\n",
    "df_list = [df.assign(probs=df[\"probs\"].apply(probs_to_list)) for df in df_list]\n",
    "probs_list = [df.probs.values.tolist() for df in df_list]"
   ]
  },
  {
   "cell_type": "code",
   "execution_count": 234,
   "metadata": {},
   "outputs": [],
   "source": [
    "def set_weight(probs_list, weight=BALANCED_WEIGHT):\n",
    "    new_probs_list = []\n",
    "    for i in range(len(probs_list)):\n",
    "        new_probs_list.append((np.array(probs_list[i]) * weight[i]).tolist())\n",
    "    return new_probs_list\n",
    "\n",
    "probs_weighted_list = set_weight(probs_list)"
   ]
  },
  {
   "cell_type": "code",
   "execution_count": 235,
   "metadata": {},
   "outputs": [],
   "source": [
    "# # 가중치가 없던 예전 버전 : deprecated\n",
    "# def get_average(probs_list):\n",
    "#     df_probs_sum = np.sum(probs_list, axis=0)\n",
    "#     return df_probs_sum / len(probs_list)\n",
    "\n",
    "# probs_average_deprecated = get_average(probs_list).tolist()"
   ]
  },
  {
   "cell_type": "code",
   "execution_count": 236,
   "metadata": {},
   "outputs": [],
   "source": [
    "def get_average(probs_list):\n",
    "    return np.sum(probs_list, axis=0).tolist()\n",
    "\n",
    "probs_average = get_average(probs_weighted_list)"
   ]
  },
  {
   "cell_type": "code",
   "execution_count": 237,
   "metadata": {},
   "outputs": [],
   "source": [
    "# assert probs_average[3] == probs_average_deprecated[3]"
   ]
  },
  {
   "cell_type": "code",
   "execution_count": 238,
   "metadata": {},
   "outputs": [],
   "source": [
    "# assert probs_average[0] == (df_list[0].probs[0] + df_list[1].probs[0]) / 2\n",
    "# random_num = 125\n",
    "# average = (df_list[0].probs[random_num] + df_list[1].probs[random_num] + df_list[2].probs[random_num]\n",
    "#            + df_list[3].probs[random_num] + df_list[4].probs[random_num]+df_list[5].probs[random_num]\n",
    "#            +df_list[6].probs[random_num]+df_list[7].probs[random_num]+df_list[8].probs[random_num]+df_list[9].probs[random_num]) / 10\n",
    "# assert np.allclose(probs_average[random_num], average)"
   ]
  },
  {
   "cell_type": "code",
   "execution_count": 239,
   "metadata": {},
   "outputs": [],
   "source": [
    "result = [np.argmax(prob) for prob in probs_average]\n",
    "\n",
    "assert len(df_list[0]) == len(result)"
   ]
  },
  {
   "cell_type": "code",
   "execution_count": 240,
   "metadata": {},
   "outputs": [],
   "source": [
    "import pickle\n",
    "def label_to_num(label: np.ndarray) -> list:\n",
    "    num_label = []\n",
    "    with open(\"/opt/ml/code/dict_label_to_num.pkl\", \"rb\") as f:\n",
    "        dict_label_to_num = pickle.load(f)\n",
    "    for v in label:\n",
    "        num_label.append(dict_label_to_num[v])\n",
    "\n",
    "    return num_label\n",
    "\n",
    "\n",
    "def num_to_label(label: np.ndarray) -> list:\n",
    "    \"\"\"\n",
    "    숫자로 되어 있던 class를 원본 문자열 라벨로 변환 합니다.\n",
    "    \"\"\"\n",
    "    origin_label = []\n",
    "    with open(\"/opt/ml/code/dict_num_to_label.pkl\", \"rb\") as f:\n",
    "        dict_num_to_label = pickle.load(f)\n",
    "    for v in label:\n",
    "        origin_label.append(dict_num_to_label[v])\n",
    "\n",
    "    return origin_label"
   ]
  },
  {
   "cell_type": "code",
   "execution_count": 241,
   "metadata": {},
   "outputs": [],
   "source": [
    "result_label = num_to_label(result)"
   ]
  },
  {
   "cell_type": "code",
   "execution_count": 242,
   "metadata": {},
   "outputs": [
    {
     "data": {
      "text/plain": [
       "['org:product', 'per:alternate_names', 'no_relation']"
      ]
     },
     "execution_count": 242,
     "metadata": {},
     "output_type": "execute_result"
    }
   ],
   "source": [
    "result_label[:3]"
   ]
  },
  {
   "cell_type": "code",
   "execution_count": 243,
   "metadata": {},
   "outputs": [],
   "source": [
    "output = pd.DataFrame({\"id\": df_list[0].id, \"pred_label\": result_label, \"probs\": probs_average})\n",
    "output.to_csv(f\"{FILE_PATH}/{ENSEMBLE_CSV_NAME}.csv\", index=False)"
   ]
  },
  {
   "cell_type": "code",
   "execution_count": null,
   "metadata": {},
   "outputs": [],
   "source": []
  },
  {
   "cell_type": "code",
   "execution_count": null,
   "metadata": {},
   "outputs": [],
   "source": []
  }
 ],
 "metadata": {
  "kernelspec": {
   "display_name": "Python 3.8.5 ('base')",
   "language": "python",
   "name": "python3"
  },
  "language_info": {
   "codemirror_mode": {
    "name": "ipython",
    "version": 3
   },
   "file_extension": ".py",
   "mimetype": "text/x-python",
   "name": "python",
   "nbconvert_exporter": "python",
   "pygments_lexer": "ipython3",
   "version": "3.8.5"
  },
  "orig_nbformat": 4,
  "vscode": {
   "interpreter": {
    "hash": "d4d1e4263499bec80672ea0156c357c1ee493ec2b1c70f0acce89fc37c4a6abe"
   }
  }
 },
 "nbformat": 4,
 "nbformat_minor": 2
}
